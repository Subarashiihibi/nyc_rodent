{
 "cells": [
  {
   "cell_type": "markdown",
   "id": "c361096e",
   "metadata": {},
   "source": [
    "# Subway Entrance to Census block mapping\n",
    "This code maps the subway entrances across NYC to census blocks groups. The output is essentially a .csv file with two columns spatial id (of census block) and number of subway entrances therein"
   ]
  },
  {
   "cell_type": "code",
   "execution_count": null,
   "id": "da4dcdf8",
   "metadata": {},
   "outputs": [],
   "source": [
    "from datetime import datetime, timedelta\n",
    "import geopandas as gpd\n",
    "import json\n",
    "import pandas as pd\n",
    "import mapclassify\n",
    "import matplotlib.pyplot as plt\n",
    "import numpy as np\n",
    "import os\n",
    "import requests\n",
    "from io import StringIO\n",
    "import warnings\n",
    "\n",
    "warnings.filterwarnings('ignore')\n",
    "\n",
    "pd.set_option('display.max_columns', None)\n",
    "pd.set_option(\"display.max_rows\", None)\n",
    "np.set_printoptions(threshold=np.inf)"
   ]
  },
  {
   "cell_type": "code",
   "execution_count": null,
   "id": "90c65317",
   "metadata": {},
   "outputs": [],
   "source": [
    "# Subway Entrances\n",
    "subways_url = 'https://data.cityofnewyork.us/resource/he7q-3hwy.geojson'"
   ]
  },
  {
   "cell_type": "code",
   "execution_count": null,
   "id": "9f23ed84",
   "metadata": {},
   "outputs": [],
   "source": [
    "subways_response = requests.get(subways_url)\n",
    "subways_json = subways_response.json()\n",
    "subways_gdf = gpd.GeoDataFrame.from_features(subways_json['features'])\n",
    "subways_gdf = subways_gdf[['geometry','objectid']]\n",
    "print(subways_gdf)"
   ]
  },
  {
   "cell_type": "code",
   "execution_count": null,
   "id": "628aff95",
   "metadata": {},
   "outputs": [],
   "source": [
    "subways_gdf.plot(figsize=(15,15))"
   ]
  },
  {
   "cell_type": "code",
   "execution_count": null,
   "id": "003cedd4",
   "metadata": {},
   "outputs": [],
   "source": [
    "parent_dir = os.path.abspath('..')  # get the absolute path of the parent directory\n",
    "file_path = os.path.join(parent_dir, 'Data', 'nyc_bgrp.geojson')  # construct the file path\n",
    "cb_gdf = gpd.read_file(file_path)  # load the GeoJSON file into a GeoDataFrame\n",
    "cb_gdf.head(2)\n",
    "cb_gdf.plot(figsize=(30,30))\n",
    "print(len(cb_gdf))"
   ]
  },
  {
   "cell_type": "code",
   "execution_count": null,
   "id": "fa22bae2",
   "metadata": {},
   "outputs": [],
   "source": [
    "subways_joined_tracts_gdf = gpd.sjoin(subways_gdf, cb_gdf[['geometry','spatial_id']], op='within', how='left')"
   ]
  },
  {
   "cell_type": "code",
   "execution_count": null,
   "id": "32bb1204",
   "metadata": {},
   "outputs": [],
   "source": [
    "print(subways_joined_tracts_gdf)"
   ]
  },
  {
   "cell_type": "code",
   "execution_count": null,
   "id": "80a2acc8",
   "metadata": {},
   "outputs": [],
   "source": [
    "# Group by census block and count the number of subway entrances\n",
    "subway_counts = subways_joined_tracts_gdf.groupby('spatial_id').size().reset_index(name='subway_count')"
   ]
  },
  {
   "cell_type": "code",
   "execution_count": null,
   "id": "bc25013e",
   "metadata": {},
   "outputs": [],
   "source": [
    "# Merge subway counts with census blocks data\n",
    "subway_census_blocks_df = cb_gdf.merge(subway_counts, on='spatial_id', how='left')\n",
    "subway_census_blocks_df['subway_count'].fillna(0,inplace =True)\n",
    "print(subway_census_blocks_df)"
   ]
  },
  {
   "cell_type": "code",
   "execution_count": null,
   "id": "9b747be3",
   "metadata": {},
   "outputs": [],
   "source": [
    "\n",
    "# Plot the census blocks with subway entrance counts\n",
    "fig, ax = plt.subplots(figsize=(12, 8))\n",
    "subway_census_blocks_df.plot(column='subway_count', cmap='coolwarm', linewidth=0.8, ax=ax, edgecolor='0.8', legend=True, vmin=0, vmax=subway_census_blocks_df['subway_count'].max())\n",
    "ax.set_title('Number of Subway Entrances in each Census Block in NYC')\n",
    "plt.show()"
   ]
  },
  {
   "cell_type": "code",
   "execution_count": null,
   "id": "146327f8",
   "metadata": {},
   "outputs": [],
   "source": [
    "from matplotlib.colors import ListedColormap\n",
    "max_count = int(subway_census_blocks_df['subway_count'].max())\n",
    "\n",
    "# Define a custom colormap with blue for 0 subway entrances and red for higher entrance counts\n",
    "cmap = ListedColormap(['white'] + ['black'] * max_count)\n",
    "\n",
    "# Plot the census blocks with subway entrance counts using the custom colormap\n",
    "fig, ax = plt.subplots(figsize=(12, 8))\n",
    "subway_census_blocks_df.plot(column='subway_count', cmap=cmap, linewidth=0.1, ax=ax, edgecolor='0.8', legend=True, vmin=0, vmax=max_count)\n",
    "ax.set_title('Number of Subway Entrances in each Census Block in NYC')\n",
    "plt.show()"
   ]
  },
  {
   "cell_type": "code",
   "execution_count": null,
   "id": "04454494",
   "metadata": {},
   "outputs": [],
   "source": [
    "export_columns = ['spatial_id'] + ['subway_count'] \n",
    "print(export_columns)\n",
    "parent_dir = os.path.abspath('..')  # get the absolute path of the parent directory\n",
    "file_path = os.path.join(parent_dir, 'Data', 'subway_entrances_2_censusblocks.csv')  # construct the file path\n",
    "subway_census_blocks_df[export_columns].to_csv(file_path, index=False)"
   ]
  },
  {
   "cell_type": "code",
   "execution_count": null,
   "id": "193f357b",
   "metadata": {},
   "outputs": [],
   "source": []
  }
 ],
 "metadata": {
  "kernelspec": {
   "display_name": "Python 3 (ipykernel)",
   "language": "python",
   "name": "python3"
  },
  "language_info": {
   "codemirror_mode": {
    "name": "ipython",
    "version": 3
   },
   "file_extension": ".py",
   "mimetype": "text/x-python",
   "name": "python",
   "nbconvert_exporter": "python",
   "pygments_lexer": "ipython3",
   "version": "3.9.12"
  }
 },
 "nbformat": 4,
 "nbformat_minor": 5
}
