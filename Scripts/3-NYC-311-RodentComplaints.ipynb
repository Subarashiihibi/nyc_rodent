{
 "cells": [
  {
   "cell_type": "markdown",
   "id": "8ac35fe1",
   "metadata": {},
   "source": [
    "# NYC Rodent Sightings - 311 2018-2023\n",
    "\n",
    "#### _Overview_ \n",
    "This notebook parses the 311 rodent sighting complaints for the 2018 to 2023 time span, and aggregates the sightings to the census block group spatial unit. One-hot encoding is used to create a boolean column per variables to sum the total count of sightings. \n",
    "\n",
    "- **Location Type** is simplified to a new columns called 'loc_type' with the following classifications: residential, residential-mixed, commercial, outdoor, vacant, and other. In the final census block dataset these are prefixed with `l_` indicating location.\n",
    "\n",
    "- **Temporal** derivatives are calculated including year, month, day of week, and a simple time range. In the final census block dataset these are prefixed with `m_`, `d_`, and `t_` indicating month, day of week and time, respectively.\n",
    "\n",
    "Caveats: \n",
    "\n",
    "    The final dataset has duplicate polygons: 1 per year \n",
    "    Duplicate reports on the same day from the same address are dropped. \n",
    "\n",
    "\n",
    "<u>Citations<u>\n",
    "    \n",
    "    MLA Format:\n",
    "    NYC OpenData, Rat Sightings, https://data.cityofnewyork.us/Social-Services/Rat-Sightings/3q43-55fe.\n",
    "\n",
    "    LaTeX Format:\n",
    "    \\bibitem{RatSightings}\n",
    "    NYC OpenData. \\emph{Rat Sightings}. https://data.cityofnewyork.us/Social-Services/Rat-Sightings/3q43-55fe.\n",
    "\n"
   ]
  },
  {
   "cell_type": "code",
   "execution_count": null,
   "id": "ad39284b",
   "metadata": {},
   "outputs": [],
   "source": [
    "from datetime import datetime, timedelta\n",
    "import geopandas as gpd\n",
    "import json\n",
    "import pandas as pd\n",
    "import mapclassify\n",
    "import matplotlib.pyplot as plt\n",
    "import numpy as np\n",
    "import os\n",
    "import requests\n",
    "from io import StringIO\n",
    "import warnings\n",
    "\n",
    "warnings.filterwarnings('ignore')\n",
    "\n",
    "pd.set_option('display.max_columns', None)\n",
    "pd.set_option(\"display.max_rows\", None)\n",
    "np.set_printoptions(threshold=np.inf)"
   ]
  },
  {
   "cell_type": "code",
   "execution_count": null,
   "id": "12ec6782",
   "metadata": {},
   "outputs": [],
   "source": [
    "# 311 Rat Sightings\n",
    "params_sightings = {\n",
    "    '$where': \"created_date between '2018-01-01T00:00:00' and '2023-12-31T23:59:59'\",\n",
    "    '$limit': 500000  # Limit the number of records, adjust as needed\n",
    "}\n",
    "sightings_url = 'https://data.cityofnewyork.us/resource/3q43-55fe.geojson'\n",
    "# https://data.cityofnewyork.us/Social-Services/Rat-Sightings/3q43-55fe"
   ]
  },
  {
   "cell_type": "code",
   "execution_count": null,
   "id": "71273b2b",
   "metadata": {},
   "outputs": [],
   "source": [
    "sightings_response = requests.get(sightings_url, params=params_sightings)\n",
    "sightings_json = sightings_response.json()\n",
    "sightings_gdf = gpd.GeoDataFrame.from_features(sightings_json['features'])\n",
    "print(len(sightings_gdf))\n",
    "sightings_gdf.head()"
   ]
  },
  {
   "cell_type": "code",
   "execution_count": null,
   "id": "e68e9164",
   "metadata": {},
   "outputs": [],
   "source": [
    "sightings_gdf.plot(figsize=(15,15))"
   ]
  },
  {
   "cell_type": "markdown",
   "id": "d829c049",
   "metadata": {},
   "source": [
    "# EDA on 311 Rodent sightings\n",
    "\n",
    "Fields of interest:\n",
    "\n",
    "    created_date\n",
    "    location_type\n",
    "    \n",
    "Fields checked (but do not seem relevant):\n",
    "\n",
    "    facility_type - empty\n",
    "    location_state - empty\n",
    "    agency - ALL DOHMH\n",
    "    park_facility_name - ALL Unspecified\n",
    "    agency_name - ALL Department of Health and Mental Hygiene\n",
    "    descriptor - all Rat Sighting\n",
    "    complaint_type - all Rodent\n",
    "    status - 7% in progress. doesn't seem necessary to include\n",
    "    "
   ]
  },
  {
   "cell_type": "markdown",
   "id": "80d501ba",
   "metadata": {},
   "source": [
    "### Location Type explore"
   ]
  },
  {
   "cell_type": "code",
   "execution_count": null,
   "id": "d5e19f90",
   "metadata": {},
   "outputs": [],
   "source": [
    "sightings_gdf.location_type.value_counts()"
   ]
  },
  {
   "cell_type": "code",
   "execution_count": null,
   "id": "38aff867",
   "metadata": {
    "scrolled": false
   },
   "outputs": [],
   "source": [
    "# Create a function to simplify location type\n",
    "\n",
    "def simplify_location_type(location_type):\n",
    "    loc_type = \"\"\n",
    "    \n",
    "    # Residential\n",
    "    if location_type in ('Residential Building',\n",
    "                         'Residential Property',\n",
    "                         'Residence',\n",
    "                         'Apartment',\n",
    "                         'Private House',\n",
    "                         '3+ Family Apt. Building', \n",
    "                         '3+ Family Apt',\n",
    "                         '3+ Family Apt.',\n",
    "                         '3+ Family Apartment Building',\n",
    "                         '3+Family Apt.',\n",
    "                         '1-3 Family Dwelling',\n",
    "                         '1-2 FamilyDwelling',\n",
    "                         '1-2 Family Dwelling'):\n",
    "        loc_type = \"Residential\"\n",
    "        \n",
    "    # Residential - Mixed Use\n",
    "    if location_type in ('3+ Family Mixed Use Building',\n",
    "                         '1-3 Family Mixed Use Building',\n",
    "                         '1-2 Family Mixed Use Building',\n",
    "                         'Single Room Occupancy (SRO)'):\n",
    "        loc_type = \"Residential-Mixed\"\n",
    "    \n",
    "    # Commercial/Public Facility\n",
    "    if location_type in ('Commercial Building',\n",
    "                         'Commercial Property',\n",
    "                         'Retail Store',\n",
    "                         'Grocery Store',\n",
    "                         'Store',\n",
    "                         'Restaurant',\n",
    "                         'Restaurant/Bar/Deli/Bakery',\n",
    "                         'Building (Non-Residential)',\n",
    "                         'Day Care/Nursery',\n",
    "                         'Office Building',\n",
    "                         'Government Building',\n",
    "                         'Hospital',\n",
    "                         'Summer Camp',\n",
    "                         'Cafeteria - Public School',\n",
    "                         'School',\n",
    "                         'School/Pre-School'):\n",
    "        loc_type = \"Commercial\"\n",
    "\n",
    "    # Public Outdoor\n",
    "    if location_type in ('Street Area',\n",
    "                         'Street Fair Vendor',\n",
    "                         'Ground',\n",
    "                         'Beach',\n",
    "                         'Public Garden',\n",
    "                         'Catch Basin/Sewer',\n",
    "                         'Public Stairs'):\n",
    "        loc_type = \"Outdoor\"\n",
    "        \n",
    "    # Buildings - Vacant\n",
    "    if location_type in ('Construction Site',\n",
    "                         'Vacant Lot',\n",
    "                         'Vacant Lot/Property',\n",
    "                         'Abandoned Building',\n",
    "                         'Vacant Building',\n",
    "                         'Parking Lot/Garage'):\n",
    "        loc_type = \"Vacant_Space\"    \n",
    "    \n",
    "    # Other\n",
    "    if location_type in ('Other (Explain Below)','N/A','Other','None','Catering Service',None):\n",
    "        loc_type = \"Other\"      \n",
    "    \n",
    "    if loc_type == \"\":\n",
    "        print(location_type)\n",
    "    \n",
    "    return loc_type\n",
    "\n",
    "       \n",
    "sightings_gdf['loc_type'] = sightings_gdf.apply(lambda row: simplify_location_type(row['location_type']), axis=1)\n",
    "                      \n",
    "sightings_gdf.loc_type.value_counts()\n"
   ]
  },
  {
   "cell_type": "markdown",
   "id": "79a4ba71",
   "metadata": {},
   "source": [
    "### Time of Day explore"
   ]
  },
  {
   "cell_type": "code",
   "execution_count": null,
   "id": "598662b0",
   "metadata": {},
   "outputs": [],
   "source": [
    "# Create new column per range of hours\n",
    "\n",
    "# morning (12am- 8am)\n",
    "# midday(8am-4pm)\n",
    "# Evening (4pm-12am)\n",
    "\n",
    "def create_time_range(hour_of_day):\n",
    "    if 0 < hour_of_day <= 6:\n",
    "        return \"Morning\"\n",
    "    elif 8 < hour_of_day <= 16:\n",
    "        return \"Midday\"\n",
    "    else: \n",
    "        return \"Evening\""
   ]
  },
  {
   "cell_type": "code",
   "execution_count": null,
   "id": "c296db08",
   "metadata": {},
   "outputs": [],
   "source": [
    "def create_date_cols(df):\n",
    "    df['created_date'] = pd.to_datetime(df['created_date'])\n",
    "\n",
    "    # Create new columns for month, day of the week, and hour of the day\n",
    "    df['year'] = df['created_date'].dt.strftime('%Y')  # Year as a string\n",
    "    df['month'] = df['created_date'].dt.strftime('%B')  # Month as a string\n",
    "    df['day_of_week'] = df['created_date'].dt.strftime('%A')  # Day of the week as a string\n",
    "    df['hour_of_day'] = df['created_date'].dt.hour  # Hour of the day as an int\n",
    "    df['time_range'] = df.apply(lambda row: create_time_range(row['hour_of_day']), axis=1)\n",
    "    return df\n",
    "\n",
    "sightings_gdf = create_date_cols(sightings_gdf)\n",
    "sightings_gdf.time_range.value_counts()"
   ]
  },
  {
   "cell_type": "markdown",
   "id": "3bccf3f9",
   "metadata": {},
   "source": [
    "### Combine loc_type and hour of day\n",
    "\n",
    "Do we want to add this in?"
   ]
  },
  {
   "cell_type": "code",
   "execution_count": null,
   "id": "2644a0ed",
   "metadata": {},
   "outputs": [],
   "source": [
    "sightings_gdf['loc_type_per_time'] = sightings_gdf['loc_type'] + '_' + sightings_gdf['time_range']\n",
    "sightings_gdf.loc_type_per_time.value_counts()"
   ]
  },
  {
   "cell_type": "code",
   "execution_count": null,
   "id": "dbfc791b",
   "metadata": {},
   "outputs": [],
   "source": [
    "sightings_gdf['loc_type_per_dow'] = sightings_gdf['loc_type'] + '_' + sightings_gdf['day_of_week']\n",
    "sightings_gdf.loc_type_per_dow.value_counts()"
   ]
  },
  {
   "cell_type": "code",
   "execution_count": null,
   "id": "ff3aca7d",
   "metadata": {},
   "outputs": [],
   "source": [
    "# Drop duplicates \n",
    "print(len(sightings_gdf))\n",
    "sightings_gdf = sightings_gdf.drop_duplicates(subset=['incident_address','loc_type','year','month','day_of_week','time_range'], keep='first')\n",
    "print(len(sightings_gdf))"
   ]
  },
  {
   "cell_type": "markdown",
   "id": "ea4b6252",
   "metadata": {},
   "source": [
    "# Summarize per Census Block Group\n",
    "\n",
    "This geography seems very granular. Let's see how it works for our data"
   ]
  },
  {
   "cell_type": "code",
   "execution_count": null,
   "id": "0f045e09",
   "metadata": {},
   "outputs": [],
   "source": [
    "parent_dir = os.path.abspath('..')  # get the absolute path of the parent directory\n",
    "file_path = os.path.join(parent_dir, 'Data', 'nyc_bgrp.geojson')  # construct the file path\n",
    "cb_gdf = gpd.read_file(file_path)  # load the GeoJSON file into a GeoDataFrame"
   ]
  },
  {
   "cell_type": "code",
   "execution_count": null,
   "id": "1a86fd79",
   "metadata": {},
   "outputs": [],
   "source": [
    "cb_gdf.head(2)"
   ]
  },
  {
   "cell_type": "code",
   "execution_count": null,
   "id": "fafafe07",
   "metadata": {},
   "outputs": [],
   "source": [
    "cb_gdf.plot(figsize=(30,30))"
   ]
  },
  {
   "cell_type": "code",
   "execution_count": null,
   "id": "09194dbc",
   "metadata": {},
   "outputs": [],
   "source": [
    "print(len(cb_gdf))"
   ]
  },
  {
   "cell_type": "code",
   "execution_count": null,
   "id": "e707dc11",
   "metadata": {},
   "outputs": [],
   "source": [
    "# Slim down the dataset\n",
    "sighting_cols = ['geometry', 'loc_type', 'year', 'month', 'day_of_week', 'time_range']\n",
    "sightings_gdf[sighting_cols].head()"
   ]
  },
  {
   "cell_type": "code",
   "execution_count": null,
   "id": "c64645b6",
   "metadata": {},
   "outputs": [],
   "source": [
    "# One hot encode the variables to columns\n",
    "\n",
    "def encode_complaints(df, cols):\n",
    "    # Encode\n",
    "    loc_encoded = pd.get_dummies(df['loc_type'], prefix='l')\n",
    "    dow_encoded = pd.get_dummies(df['day_of_week'], prefix='d')\n",
    "    time_encoded = pd.get_dummies(df['time_range'], prefix='t')\n",
    "    \n",
    "    # Merge new variables\n",
    "    sightings_merge = pd.merge(df[cols], loc_encoded, left_index=True, right_index=True)\n",
    "    sightings_encoded_df = pd.merge(sightings_merge, dow_encoded, left_index=True, right_index=True)\n",
    "    sightings_encoded_df = pd.merge(sightings_encoded_df, time_encoded, left_index=True, right_index=True)\n",
    "    sightings_encoded_gdf = gpd.GeoDataFrame(sightings_encoded_df, geometry='geometry')\n",
    "\n",
    "    return sightings_encoded_gdf\n",
    "\n",
    "sightings_encoded_gdf = encode_complaints(sightings_gdf, sighting_cols)\n",
    "sightings_encoded_gdf.head(5)"
   ]
  },
  {
   "cell_type": "code",
   "execution_count": null,
   "id": "8b3163be",
   "metadata": {},
   "outputs": [],
   "source": [
    "# Perform spatial join\n",
    "sightings_joined_tracts_gdf = gpd.sjoin(sightings_encoded_gdf, cb_gdf[['geometry','spatial_id']], op='within', how='left')\n",
    "\n",
    "def aggregate_sightings(df):\n",
    "    # Aggregate the complaints\n",
    "    loc_columns = [col for col in df.columns if col.startswith('l_')]\n",
    "    dow_columns = [col for col in df.columns if col.startswith('d_')]\n",
    "    time_columns = [col for col in df.columns if col.startswith('t_')]\n",
    "    agg_cols = loc_columns + dow_columns + time_columns\n",
    "    sightings_agg_dict = {col: ['sum'] for col in agg_cols}\n",
    "    sightings_agg_dict['year'] = 'count'\n",
    "    sightings_agg_df = df.groupby(['spatial_id','year']).agg(sightings_agg_dict).reset_index()\n",
    "    sightings_agg_df.columns = sightings_agg_df.columns.map('_'.join)\n",
    "    sightings_agg_df = sightings_agg_df.rename(columns={'year_count': 'num_sightings',\n",
    "                                                        'year_':'year',\n",
    "                                                        'spatial_id_':'spatial_id'})\n",
    "    return sightings_agg_df\n",
    "    \n",
    "\n",
    "sightings_agg_df = aggregate_sightings(sightings_joined_tracts_gdf)\n",
    "sightings_agg_df.head()\n"
   ]
  },
  {
   "cell_type": "code",
   "execution_count": null,
   "id": "3515ceb7",
   "metadata": {},
   "outputs": [],
   "source": [
    "# Duplicate the census blocks per years in dataset \n",
    "years = sightings_agg_df.year.unique()\n",
    "\n",
    "years_cb_gdf = pd.DataFrame() # empty dataframe\n",
    "\n",
    "for year in years:\n",
    "    year_cb_gdf = cb_gdf.copy()\n",
    "    year_cb_gdf['year'] = year\n",
    "    years_cb_gdf = pd.concat([years_cb_gdf, year_cb_gdf])\n",
    "\n",
    "print(len(years_cb_gdf))\n",
    "\n",
    "years_cb_gdf.head(5)\n"
   ]
  },
  {
   "cell_type": "code",
   "execution_count": null,
   "id": "059f47ef",
   "metadata": {},
   "outputs": [],
   "source": [
    "# Merge back to the census tracts \n",
    "sightings_gdf = pd.merge(years_cb_gdf, sightings_agg_df, on=['spatial_id','year'], how='left')\n",
    "\n",
    "column_list = sightings_gdf.columns[8:]\n",
    "sightings_gdf[column_list] = sightings_gdf[column_list].fillna(0)\n",
    "sightings_gdf.head()"
   ]
  },
  {
   "cell_type": "markdown",
   "id": "0050e1f9",
   "metadata": {},
   "source": [
    "## Visualize Metrics "
   ]
  },
  {
   "cell_type": "code",
   "execution_count": null,
   "id": "1c3516bf",
   "metadata": {
    "scrolled": false
   },
   "outputs": [],
   "source": [
    "years = sorted(years)\n",
    "for year in years:\n",
    "    sightings_annual_gdf = sightings_gdf[(sightings_gdf['year']==year)]\n",
    "    # Natural Breaks (Jenks)\n",
    "    fig, ax = plt.subplots(1, 1, figsize=(10, 10))\n",
    "    sightings_annual_gdf.plot(column='num_sightings',\n",
    "                        ax=ax,\n",
    "                        cmap='YlOrRd',\n",
    "                        scheme='natural_breaks',\n",
    "                        k=8,\n",
    "                        legend=True,\n",
    "                        missing_kwds={'color': 'lightgray'},\n",
    "                        legend_kwds={'loc': 'upper left', 'title': 'Number of Sightings'})\n",
    "    plt.title('Rodent Sighting Complaints (311): {0}'.format(year))\n",
    "    plt.show()"
   ]
  },
  {
   "cell_type": "markdown",
   "id": "1aa82757",
   "metadata": {},
   "source": [
    "## Plot variables for one year (2021)"
   ]
  },
  {
   "cell_type": "code",
   "execution_count": null,
   "id": "f52ecd82",
   "metadata": {},
   "outputs": [],
   "source": [
    "sightings_slim_gdf = sightings_gdf[(sightings_gdf['year']=='2021')]\n",
    "sightings_slim_gdf.sort_values(by='num_sightings', ascending=False).head(5)"
   ]
  },
  {
   "cell_type": "code",
   "execution_count": null,
   "id": "fd123bbf",
   "metadata": {
    "scrolled": false
   },
   "outputs": [],
   "source": [
    "def plot_map(column_name, title):\n",
    "    fig, ax = plt.subplots(1, 1, figsize=(15, 15))\n",
    "    sightings_slim_gdf.plot(column=column_name,\n",
    "                        ax=ax,\n",
    "                        cmap='YlOrRd',\n",
    "                        scheme='natural_breaks',\n",
    "                        k=8,\n",
    "                        legend=True,\n",
    "                        missing_kwds={'color': 'lightgray'},\n",
    "                        legend_kwds={'loc': 'upper left', 'title': title})\n",
    "    plt.show()\n",
    "\n",
    "for column in column_list:\n",
    "    plot_title = f'Number of Complaints - {column}'\n",
    "    plot_map(column, plot_title)"
   ]
  },
  {
   "cell_type": "markdown",
   "id": "04c6f078",
   "metadata": {},
   "source": [
    "# Export to csv \n",
    "\n",
    "Not exporting to GeoJson because the dataset would be very large. Helper code below to load."
   ]
  },
  {
   "cell_type": "code",
   "execution_count": null,
   "id": "4349acb3",
   "metadata": {},
   "outputs": [],
   "source": [
    "export_columns = ['spatial_id'] + sightings_gdf.columns[7:].to_list()\n",
    "print(export_columns)\n",
    "parent_dir = os.path.abspath('..')  # get the absolute path of the parent directory\n",
    "file_path = os.path.join(parent_dir, 'Data', 'sightings_per_year.csv')  # construct the file path\n",
    "sightings_gdf[export_columns].to_csv(file_path, index=False)"
   ]
  },
  {
   "cell_type": "markdown",
   "id": "8373836b",
   "metadata": {},
   "source": [
    "### EXAMPLE "
   ]
  },
  {
   "cell_type": "code",
   "execution_count": null,
   "id": "10de0bd2",
   "metadata": {},
   "outputs": [],
   "source": [
    "parent_dir = os.path.abspath('..')  # get the absolute path of the parent directory"
   ]
  },
  {
   "cell_type": "code",
   "execution_count": null,
   "id": "bcf13644",
   "metadata": {},
   "outputs": [],
   "source": [
    "# Read Census Block Groups\n",
    "cb_file_path = os.path.join(parent_dir, 'Data', 'nyc_bgrp.geojson')  # construct the file path\n",
    "cb_gdf = gpd.read_file(cb_file_path)  # load the GeoJSON file into a GeoDataFrame\n",
    "print(cb_gdf.dtypes)\n",
    "print(len(cb_gdf))\n",
    "cb_gdf.head(2)"
   ]
  },
  {
   "cell_type": "code",
   "execution_count": null,
   "id": "f75c6649",
   "metadata": {},
   "outputs": [],
   "source": [
    "# Read Sightings\n",
    "sightings_file_path = os.path.join(parent_dir, 'Data', 'sightings_per_year.csv')  # construct the file path\n",
    "sightings_df = pd.read_csv(sightings_file_path)\n",
    "sightings_df['spatial_id'] = sightings_df['spatial_id'].astype(str)\n",
    "print(len(sightings_df))\n",
    "print(sightings_df.dtypes)\n",
    "sightings_df.head(2)"
   ]
  },
  {
   "cell_type": "code",
   "execution_count": null,
   "id": "dddcf597",
   "metadata": {},
   "outputs": [],
   "source": [
    "sightings_gdf = pd.merge(cb_gdf, sightings_df, on=['spatial_id'], how='left')\n",
    "\n",
    "print(len(sightings_gdf))\n",
    "sightings_gdf.head(2)"
   ]
  },
  {
   "cell_type": "code",
   "execution_count": null,
   "id": "a8b5f211",
   "metadata": {},
   "outputs": [],
   "source": []
  }
 ],
 "metadata": {
  "kernelspec": {
   "display_name": "Python 3 (ipykernel)",
   "language": "python",
   "name": "python3"
  },
  "language_info": {
   "codemirror_mode": {
    "name": "ipython",
    "version": 3
   },
   "file_extension": ".py",
   "mimetype": "text/x-python",
   "name": "python",
   "nbconvert_exporter": "python",
   "pygments_lexer": "ipython3",
   "version": "3.9.12"
  }
 },
 "nbformat": 4,
 "nbformat_minor": 5
}
