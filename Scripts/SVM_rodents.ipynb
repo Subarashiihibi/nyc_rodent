{
 "cells": [
  {
   "cell_type": "markdown",
   "id": "df657cf5",
   "metadata": {},
   "source": [
    "# Classification of rodent data based on Support Vector machines"
   ]
  },
  {
   "cell_type": "code",
   "execution_count": null,
   "id": "f80de394",
   "metadata": {},
   "outputs": [],
   "source": [
    "import numpy as np\n",
    "import pandas as pd\n",
    "import matplotlib.pyplot as plt\n",
    "from matplotlib import rcParams\n",
    "from numpy import linalg\n",
    "from sklearn import svm\n",
    "from sklearn.inspection import permutation_importance\n",
    "from sklearn.model_selection import train_test_split\n",
    "import os"
   ]
  },
  {
   "cell_type": "markdown",
   "id": "8bd95d34",
   "metadata": {},
   "source": [
    "## Loading the merged data set\n",
    "\n",
    "The target variable used is the num_sightings i.e., the number rodent sightings"
   ]
  },
  {
   "cell_type": "code",
   "execution_count": null,
   "id": "8ebad8d7",
   "metadata": {},
   "outputs": [],
   "source": [
    "parent_dir = os.path.abspath('..')  # get the absolute path of the parent directory\n",
    "file_path = os.path.join(parent_dir, 'Data', 'rodents_per_year_merged.csv') \n",
    "data=pd.read_csv(file_path)\n",
    "data_20 = data[(data['year']>2017) & (data['year']<2020)]\n",
    "col=['spatial_id','year','num_dsny_complaints','num_violations','num_sightings']\n",
    "sightings = data_20['num_sightings']\n",
    "X_20 = data_20.drop(col,axis=1)\n",
    "sightings.head()"
   ]
  },
  {
   "cell_type": "markdown",
   "id": "5e284e68",
   "metadata": {},
   "source": [
    "### Considering Median Household income and Subway stratification"
   ]
  },
  {
   "cell_type": "code",
   "execution_count": null,
   "id": "a413c210",
   "metadata": {},
   "outputs": [],
   "source": [
    "col=['spatial_id','year','num_dsny_complaints','num_violations','num_sightings']\n",
    "X_20 = data_20.drop(col,axis=1)\n",
    "\n",
    "# Dropping all the features that are trivially associated with Rodent sightings\n",
    "X_20 = X_20.loc[:,~((X_20.columns.str.startswith('l_')) | (X_20.columns.str.startswith('t_')) | (X_20.columns.str.startswith('d_')) )] #\n",
    "\n",
    "# Assessing for stratification in the data by filtering the data prior to analysis\n",
    "X_20 = X_20[(X_20['subway_count']>3) & (X_20['MedianHouseholdIncome']>0)]\n",
    "sightings = data_20[['num_sightings','subway_count','MedianHouseholdIncome']]\n",
    "sightings = sightings[(sightings['subway_count']>3) & (X_20['MedianHouseholdIncome']>0)]\n",
    "sightings.drop(['subway_count','MedianHouseholdIncome'],axis=1,inplace=True)\n",
    "X_20.head()"
   ]
  },
  {
   "cell_type": "code",
   "execution_count": null,
   "id": "f866844f",
   "metadata": {},
   "outputs": [],
   "source": [
    "X_train, X_test, Y_train, Y_test = train_test_split(X_20,sightings, test_size=0.4, random_state=90)\n",
    "clf = svm.SVC(kernel='rbf',C=1e3)\n",
    "clf.fit(X_train, Y_train.values.ravel())"
   ]
  },
  {
   "cell_type": "code",
   "execution_count": null,
   "id": "9f739496",
   "metadata": {},
   "outputs": [],
   "source": [
    "training_accuracy = clf.score(X_train, Y_train)\n",
    "print(\"In-sample accuracy: {:.5f}\".format(training_accuracy))\n",
    "\n",
    "# Evaluate out-of-sample (test set) accuracy\n",
    "test_accuracy = clf.score(X_test, Y_test)\n",
    "print(\"Out-of-sample accuracy: {:.5f}\".format(test_accuracy))"
   ]
  },
  {
   "cell_type": "markdown",
   "id": "71489d98",
   "metadata": {},
   "source": [
    "### Permutation importance for Training set"
   ]
  },
  {
   "cell_type": "code",
   "execution_count": null,
   "id": "d401a480",
   "metadata": {},
   "outputs": [],
   "source": [
    "result = permutation_importance(clf, X_train, Y_train, n_repeats=10, random_state=0)\n",
    "importances = result.importances_mean"
   ]
  },
  {
   "cell_type": "markdown",
   "id": "1f4201bd",
   "metadata": {},
   "source": [
    "### Permutation importance for Test set"
   ]
  },
  {
   "cell_type": "code",
   "execution_count": null,
   "id": "daae6fe3",
   "metadata": {},
   "outputs": [],
   "source": [
    "feature_imp = pd.DataFrame(columns=X_20.columns)\n",
    "feature_imp.loc[0]=importances \n",
    "print(feature_imp.T)"
   ]
  },
  {
   "cell_type": "code",
   "execution_count": null,
   "id": "14a692bc",
   "metadata": {},
   "outputs": [],
   "source": [
    "result = permutation_importance(clf, X_test, Y_test, n_repeats=10, random_state=0)\n",
    "importances = result.importances_mean\n",
    "feature_imp = pd.DataFrame(columns=X_20.columns)\n",
    "feature_imp.loc[0]=importances \n",
    "print(feature_imp.T)"
   ]
  },
  {
   "cell_type": "markdown",
   "id": "15baad9a",
   "metadata": {},
   "source": [
    "## Analysis repeated after dropping Median Household income"
   ]
  },
  {
   "cell_type": "code",
   "execution_count": null,
   "id": "91f046aa",
   "metadata": {},
   "outputs": [],
   "source": [
    "col=['spatial_id','year','num_dsny_complaints','num_violations','num_sightings','MedianHouseholdIncome']\n",
    "X_20 = data_20.drop(col,axis=1)\n",
    "X_20 = X_20.loc[:,~((X_20.columns.str.startswith('l_')) | (X_20.columns.str.startswith('t_')) | (X_20.columns.str.startswith('d_')) )] #\n",
    "X_20 = X_20[(X_20['subway_count']>0)]\n",
    "sightings = data_20[['num_sightings','subway_count']]\n",
    "sightings = sightings[(sightings['subway_count']>0)]\n",
    "sightings.drop(['subway_count'],axis=1,inplace=True)\n",
    "X_20.head()"
   ]
  },
  {
   "cell_type": "code",
   "execution_count": null,
   "id": "e36644b4",
   "metadata": {},
   "outputs": [],
   "source": [
    "X_train, X_test, Y_train, Y_test = train_test_split(X_20,sightings, test_size=0.4, random_state=90)\n",
    "clf = svm.SVC(kernel='rbf',C=1e3)\n",
    "clf.fit(X_train, Y_train.values.ravel())"
   ]
  },
  {
   "cell_type": "code",
   "execution_count": null,
   "id": "235f1587",
   "metadata": {},
   "outputs": [],
   "source": [
    "training_accuracy = clf.score(X_train, Y_train)\n",
    "print(\"In-sample accuracy: {:.5f}\".format(training_accuracy))\n",
    "\n",
    "# Evaluate out-of-sample (test set) accuracy\n",
    "test_accuracy = clf.score(X_test, Y_test)\n",
    "print(\"Out-of-sample accuracy: {:.5f}\".format(test_accuracy))"
   ]
  },
  {
   "cell_type": "markdown",
   "id": "039105a2",
   "metadata": {},
   "source": [
    "### Permutation importance for Training set"
   ]
  },
  {
   "cell_type": "code",
   "execution_count": null,
   "id": "1bad9c79",
   "metadata": {},
   "outputs": [],
   "source": [
    "result = permutation_importance(clf, X_train, Y_train, n_repeats=10, random_state=0)\n",
    "importances = result.importances_mean\n",
    "feature_imp = pd.DataFrame(columns=X_20.columns)\n",
    "feature_imp.loc[0]=importances \n",
    "print(feature_imp.T)"
   ]
  },
  {
   "cell_type": "markdown",
   "id": "889147f6",
   "metadata": {},
   "source": [
    "### Permutation importance for Training set"
   ]
  },
  {
   "cell_type": "code",
   "execution_count": null,
   "id": "0e9abe68",
   "metadata": {},
   "outputs": [],
   "source": [
    "result = permutation_importance(clf, X_test, Y_test, n_repeats=10, random_state=0)\n",
    "importances = result.importances_mean\n",
    "feature_imp = pd.DataFrame(columns=X_20.columns)\n",
    "feature_imp.loc[0]=importances \n",
    "print(feature_imp.T)"
   ]
  },
  {
   "cell_type": "code",
   "execution_count": null,
   "id": "ff2ce656",
   "metadata": {},
   "outputs": [],
   "source": []
  }
 ],
 "metadata": {
  "kernelspec": {
   "display_name": "Python 3 (ipykernel)",
   "language": "python",
   "name": "python3"
  },
  "language_info": {
   "codemirror_mode": {
    "name": "ipython",
    "version": 3
   },
   "file_extension": ".py",
   "mimetype": "text/x-python",
   "name": "python",
   "nbconvert_exporter": "python",
   "pygments_lexer": "ipython3",
   "version": "3.9.12"
  }
 },
 "nbformat": 4,
 "nbformat_minor": 5
}
